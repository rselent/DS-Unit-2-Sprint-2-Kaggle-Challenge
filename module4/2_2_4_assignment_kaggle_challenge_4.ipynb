{
  "nbformat": 4,
  "nbformat_minor": 0,
  "metadata": {
    "colab": {
      "name": "2_2_4_assignment_kaggle_challenge_4.ipynb",
      "provenance": [],
      "collapsed_sections": [],
      "include_colab_link": true
    },
    "kernelspec": {
      "display_name": "Python 3",
      "language": "python",
      "name": "python3"
    },
    "language_info": {
      "codemirror_mode": {
        "name": "ipython",
        "version": 3
      },
      "file_extension": ".py",
      "mimetype": "text/x-python",
      "name": "python",
      "nbconvert_exporter": "python",
      "pygments_lexer": "ipython3",
      "version": "3.7.3"
    }
  },
  "cells": [
    {
      "cell_type": "markdown",
      "metadata": {
        "id": "view-in-github",
        "colab_type": "text"
      },
      "source": [
        "<a href=\"https://colab.research.google.com/github/rselent/DS-Unit-2-Sprint-2-Kaggle-Challenge/blob/master/module4/2_2_4_assignment_kaggle_challenge_4.ipynb\" target=\"_parent\"><img src=\"https://colab.research.google.com/assets/colab-badge.svg\" alt=\"Open In Colab\"/></a>"
      ]
    },
    {
      "cell_type": "markdown",
      "metadata": {
        "id": "ZEce0B9VaAx-",
        "colab_type": "text"
      },
      "source": [
        "Lambda School Data Science\n",
        "\n",
        "*Unit 2, Sprint 2, Module 4*\n",
        "\n",
        "---"
      ]
    },
    {
      "cell_type": "markdown",
      "metadata": {
        "colab_type": "text",
        "id": "nCc3XZEyG3XV"
      },
      "source": [
        "# Classification Metrics\n",
        "\n",
        "## Assignment\n",
        "- [ ] If you haven't yet, [review requirements for your portfolio project](https://lambdaschool.github.io/ds/unit2), then submit your dataset.\n",
        "- [ ] Plot a confusion matrix for your Tanzania Waterpumps model.\n",
        "- [ ] Continue to participate in our Kaggle challenge. Every student should have made at least one submission that scores at least 70% accuracy (well above the majority class baseline).\n",
        "- [ ] Submit your final predictions to our Kaggle competition. Optionally, go to **My Submissions**, and _\"you may select up to 1 submission to be used to count towards your final leaderboard score.\"_\n",
        "- [ ] Commit your notebook to your fork of the GitHub repo.\n",
        "- [ ] Read [Maximizing Scarce Maintenance Resources with Data: Applying predictive modeling, precision at k, and clustering to optimize impact](https://towardsdatascience.com/maximizing-scarce-maintenance-resources-with-data-8f3491133050), by Lambda DS3 student Michael Brady. His blog post extends the Tanzania Waterpumps scenario, far beyond what's in the lecture notebook.\n",
        "\n",
        "\n",
        "## Stretch Goals\n",
        "\n",
        "### Reading\n",
        "- [Attacking discrimination with smarter machine learning](https://research.google.com/bigpicture/attacking-discrimination-in-ml/), by Google Research, with  interactive visualizations. _\"A threshold classifier essentially makes a yes/no decision, putting things in one category or another. We look at how these classifiers work, ways they can potentially be unfair, and how you might turn an unfair classifier into a fairer one. As an illustrative example, we focus on loan granting scenarios where a bank may grant or deny a loan based on a single, automatically computed number such as a credit score.\"_\n",
        "- [Notebook about how to calculate expected value from a confusion matrix by treating it as a cost-benefit matrix](https://github.com/podopie/DAT18NYC/blob/master/classes/13-expected_value_cost_benefit_analysis.ipynb)\n",
        "- [Simple guide to confusion matrix terminology](https://www.dataschool.io/simple-guide-to-confusion-matrix-terminology/) by Kevin Markham, with video\n",
        "- [Visualizing Machine Learning Thresholds to Make Better Business Decisions](https://blog.insightdatascience.com/visualizing-machine-learning-thresholds-to-make-better-business-decisions-4ab07f823415)\n",
        "\n",
        "\n",
        "### Doing\n",
        "- [ ] Share visualizations in our Slack channel!\n",
        "- [ ] RandomizedSearchCV / GridSearchCV, for model selection. (See module 3 assignment notebook)\n",
        "- [ ] More Categorical Encoding. (See module 2 assignment notebook)\n",
        "- [ ] Stacking Ensemble. (See below)\n",
        "\n",
        "### Stacking Ensemble\n",
        "\n",
        "Here's some code you can use to \"stack\" multiple submissions, which is another form of ensembling:\n",
        "\n",
        "```python\n",
        "import pandas as pd\n",
        "\n",
        "# Filenames of your submissions you want to ensemble\n",
        "files = ['submission-01.csv', 'submission-02.csv', 'submission-03.csv']\n",
        "\n",
        "target = 'status_group'\n",
        "submissions = (pd.read_csv(file)[[target]] for file in files)\n",
        "ensemble = pd.concat(submissions, axis='columns')\n",
        "majority_vote = ensemble.mode(axis='columns')[0]\n",
        "\n",
        "sample_submission = pd.read_csv('sample_submission.csv')\n",
        "submission = sample_submission.copy()\n",
        "submission[target] = majority_vote\n",
        "submission.to_csv('my-ultimate-ensemble-submission.csv', index=False)\n",
        "```"
      ]
    },
    {
      "cell_type": "code",
      "metadata": {
        "colab_type": "code",
        "id": "lsbRiKBoB5RE",
        "colab": {}
      },
      "source": [
        "%%capture\n",
        "import sys\n",
        "\n",
        "# If you're on Colab:\n",
        "if 'google.colab' in sys.modules:\n",
        "    DATA_PATH = 'https://raw.githubusercontent.com/LambdaSchool/DS-Unit-2-Kaggle-Challenge/master/data/'\n",
        "    !pip install category_encoders==2.*\n",
        "\n",
        "# If you're working locally:\n",
        "else:\n",
        "    DATA_PATH = '../data/'"
      ],
      "execution_count": 0,
      "outputs": []
    },
    {
      "cell_type": "code",
      "metadata": {
        "colab_type": "code",
        "id": "BVA1lph8CcNX",
        "colab": {
          "base_uri": "https://localhost:8080/",
          "height": 34
        },
        "outputId": "9ceed340-3d5b-43ef-db9f-031f67788788"
      },
      "source": [
        "import numpy as np\n",
        "import pandas as pd\n",
        "import seaborn as sns\n",
        "import category_encoders as ce\n",
        "import matplotlib.pyplot as plt\n",
        "from sklearn.impute import SimpleImputer\n",
        "from sklearn.metrics import accuracy_score, confusion_matrix, classification_report\n",
        "from sklearn.pipeline import make_pipeline\n",
        "from sklearn.ensemble import RandomForestClassifier\n",
        "from sklearn.utils.multiclass import unique_labels\n",
        "from sklearn.model_selection import train_test_split\n",
        "\n",
        "def dangleWrangle( x):\n",
        "    x = x.copy()\n",
        "\n",
        "    x['latitude'] = x['latitude'].replace( -2e-08, 0)\n",
        "    zerodCols = ['latitude', 'longitude', \n",
        "                 'construction_year', \n",
        "                 'gps_height','population']\n",
        "    for cols in zerodCols:\n",
        "        x[cols] = x[cols].replace( 0, np.nan)\n",
        "        x[cols + '_MISSING'] = x[cols].isnull()\n",
        "    \n",
        "    x['date_recorded'] = pd.to_datetime( x['date_recorded'], \n",
        "                                        infer_datetime_format= True)\n",
        "    x['year_recorded'] = x['date_recorded'].dt.year\n",
        "    x['month_recorded'] = x['date_recorded'].dt.month\n",
        "    x['day_recorded'] = x['date_recorded'].dt.day\n",
        "\n",
        "    ## moved date stratification up so df.drop only needs to be called once\n",
        "\n",
        "    x = x.drop( columns= ['quantity_group', 'payment_type',     ## duplicates\n",
        "                          'recorded_by', 'id',                  ## unusable\n",
        "                          'date_recorded'])                     ## superfluous\n",
        "\n",
        "    x['age'] = ( x['year_recorded'] - x['construction_year'] )\n",
        "    x['years_MISSING'] = x['age'].isnull()\n",
        "\n",
        "    return x\n",
        "\n",
        "# Merge train_features.csv & train_labels.csv\n",
        "train = pd.merge(pd.read_csv(DATA_PATH+'waterpumps/train_features.csv'), \n",
        "                 pd.read_csv(DATA_PATH+'waterpumps/train_labels.csv'))\n",
        "\n",
        "# Read test_features.csv & sample_submission.csv\n",
        "test = pd.read_csv(DATA_PATH+'waterpumps/test_features.csv')\n",
        "sample_submission = pd.read_csv(DATA_PATH+'waterpumps/sample_submission.csv')\n",
        "\n",
        "target = 'status_group'\n",
        "train, validate = train_test_split( train, test_size= .5,\n",
        "                                    stratify= train['status_group'],\n",
        "                                    random_state= 16)\n",
        "\n",
        "train = dangleWrangle( train)               ## Defining vars\n",
        "validate = dangleWrangle( validate)\n",
        "test = dangleWrangle( test)\n",
        "\n",
        "xTrain = train.drop( columns= target)\n",
        "yTrain = train[ target]\n",
        "xValidate = validate.drop( columns= target)\n",
        "yValidate = validate[ target]\n",
        "xTest = test\n",
        "\n",
        "popeline = make_pipeline(                   ## Nanananananananana, Popeline!\n",
        "    ce.OrdinalEncoder(),\n",
        "    SimpleImputer( strategy= 'mean'),\n",
        "    RandomForestClassifier( n_estimators= 160, random_state= 16, n_jobs= -1)\n",
        ")\n",
        "\n",
        "popeline.fit( xTrain, yTrain)\n",
        "yPred = popeline.predict( xValidate)\n",
        "print( 'Validation accuracy: {:.5f}%'.format( \n",
        "        accuracy_score( yValidate, yPred) *100) )"
      ],
      "execution_count": 18,
      "outputs": [
        {
          "output_type": "stream",
          "text": [
            "Validation accuracy: 79.87542%\n"
          ],
          "name": "stdout"
        }
      ]
    },
    {
      "cell_type": "code",
      "metadata": {
        "id": "iONOvE0MaAyN",
        "colab_type": "code",
        "colab": {
          "base_uri": "https://localhost:8080/",
          "height": 422
        },
        "outputId": "4aef2d98-d8e7-45f3-ffe5-7076ea538b25"
      },
      "source": [
        "def confuMatrixPlot( yTrue, yPred):\n",
        "    labeled = unique_labels( yTrue)\n",
        "#    columned = ['Predicted {}'.format( labeled, for label in labeled)]     ## Oops. My way didn't work lol\n",
        "#    indexed = ['Actual {}'.format( labeled, for label in labeled)]\n",
        "    columned = [f'Predicted {label}' for label in labeled]\n",
        "    indexed = [f'Actual {label}' for label in labeled]\n",
        "    tabled = pd.DataFrame( confusion_matrix( yTrue, yPred),\n",
        "                           columns= columned, index = indexed)\n",
        "    return sns.heatmap( tabled, annot= True, fmt= 'd', cmap= 'viridis')\n",
        "\n",
        "confuMatrixPlot( yValidate, yPred);"
      ],
      "execution_count": 19,
      "outputs": [
        {
          "output_type": "display_data",
          "data": {
            "image/png": "[encoded data removed]",
            "text/plain": [
              "<Figure size 432x288 with 2 Axes>"
            ]
          },
          "metadata": {
            "tags": []
          }
        }
      ]
    },
    {
      "cell_type": "code",
      "metadata": {
        "id": "bHPIjQjRabzZ",
        "colab_type": "code",
        "colab": {
          "base_uri": "https://localhost:8080/",
          "height": 187
        },
        "outputId": "726b7d7e-22d8-4b44-d95b-b838e31c13b9"
      },
      "source": [
        "print( classification_report( yValidate, yPred) )"
      ],
      "execution_count": 20,
      "outputs": [
        {
          "output_type": "stream",
          "text": [
            "                         precision    recall  f1-score   support\n",
            "\n",
            "             functional       0.80      0.88      0.84     16129\n",
            "functional needs repair       0.54      0.32      0.40      2159\n",
            "         non functional       0.83      0.77      0.80     11412\n",
            "\n",
            "               accuracy                           0.80     29700\n",
            "              macro avg       0.72      0.66      0.68     29700\n",
            "           weighted avg       0.79      0.80      0.79     29700\n",
            "\n"
          ],
          "name": "stdout"
        }
      ]
    },
    {
      "cell_type": "code",
      "metadata": {
        "id": "-_-56GgViCa5",
        "colab_type": "code",
        "colab": {}
      },
      "source": [
        "yPred = popeline.predict( xTest)        ## For export"
      ],
      "execution_count": 0,
      "outputs": []
    },
    {
      "cell_type": "code",
      "metadata": {
        "id": "T8-Th-_nabw5",
        "colab_type": "code",
        "colab": {}
      },
      "source": [
        "from google.colab import files\n",
        "\n",
        "mySub = sample_submission.copy()\n",
        "mySub[ 'status_group'] = yPred\n",
        "mySub.to_csv( 'dsx-2-2-4-kaggle-rselent.csv', index= False)"
      ],
      "execution_count": 0,
      "outputs": []
    },
    {
      "cell_type": "code",
      "metadata": {
        "id": "ltAhJuOMabtE",
        "colab_type": "code",
        "colab": {}
      },
      "source": [
        ""
      ],
      "execution_count": 0,
      "outputs": []
    },
    {
      "cell_type": "code",
      "metadata": {
        "id": "XtJcSQDLabqF",
        "colab_type": "code",
        "colab": {}
      },
      "source": [
        ""
      ],
      "execution_count": 0,
      "outputs": []
    }
  ]
}